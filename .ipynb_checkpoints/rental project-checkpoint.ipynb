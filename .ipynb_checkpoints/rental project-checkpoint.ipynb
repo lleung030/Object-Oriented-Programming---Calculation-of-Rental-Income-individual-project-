{
 "cells": [
  {
   "cell_type": "code",
   "execution_count": 276,
   "id": "c107c8e8",
   "metadata": {},
   "outputs": [
    {
     "name": "stdout",
     "output_type": "stream",
     "text": [
      "What is your annual income?: 239\n",
      "\n",
      "\n",
      "{'Income': '239'}\n",
      "What is your total expense?: 34\n",
      "\n",
      "\n",
      "{'Income': '239', 'Total Expense': '34'}\n",
      "{'Income': '239', 'Total Expense': '34'}\n",
      "\n",
      "\n",
      "Your income of $239 minus an expense of $34 comes out to be... $205!\n",
      "\n",
      "\n",
      "{'Income': '239', 'Total Expense': '34', 'Cash Flow': 205}\n",
      "What is your Down Payment?: 63\n",
      "{'Down Payment': '$63'}\n",
      "\n",
      "\n",
      "What is your Closing Costs?: 34\n",
      "{'Down Payment': '$63', 'Closing Costs': '$34'}\n",
      "\n",
      "\n",
      "What is your Rehab budget?: 456\n",
      "{'Down Payment': '$63', 'Closing Costs': '$34', 'Rehab budget': '$456'}\n",
      "\n",
      "\n",
      "What is your Misc. Costs?: 2\n",
      "{'Down Payment': '$63', 'Closing Costs': '$34', 'Rehab budget': '$456', 'Misc. Costs': '$2'}\n",
      "\n",
      "\n",
      "CALCULATING . . .\n",
      "\n",
      "\n",
      "Your Investment Breakdown:\n",
      "{'Down Payment': '$63', 'Closing Costs': '$34', 'Rehab budget': '$456', 'Misc. Costs': '$2'}\n",
      "\n",
      "\n",
      "Your Balance Sheet:\n",
      "{'Income': '239', 'Total Expense': '34', 'Cash Flow': 205, 'Investments': 555}\n",
      "\n",
      "\n",
      "Your ROI is 36.94%.\n",
      "\n",
      "\n",
      "{'Income': '239', 'Total Expense': '34', 'Cash Flow': 205, 'Investments': 555, 'ROI': '36.94%'}\n"
     ]
    }
   ],
   "source": [
    "class Rental_Income():\n",
    "    def __init__(self, name):\n",
    "        self.name = name\n",
    "        self.balance_sheet = {}\n",
    "        self.investment_sheet = {}    \n",
    "        \n",
    "    def add_income(self):\n",
    "        response = input(f'What is your annual income?: ')\n",
    "        print(\"\\n\")\n",
    "        {'Income':response}\n",
    "        self.balance_sheet.update({'Income':response})\n",
    "        print(f'{self.balance_sheet}')\n",
    "        \n",
    "        \n",
    "    def add_expense(self):\n",
    "        response = input(f'What is your total expense?: ')\n",
    "        print(\"\\n\")\n",
    "        {'Total Expense':response}\n",
    "        self.balance_sheet.update({'Total Expense':response})\n",
    "        print(f'{self.balance_sheet}')\n",
    "    \n",
    "    def cash_flow_calc(self, income):\n",
    "        print(self.balance_sheet)\n",
    "        print(\"\\n\")\n",
    "        if income in self.balance_sheet:\n",
    "            x = self.balance_sheet['Income']\n",
    "            y = self.balance_sheet['Total Expense']\n",
    "            cash_flow = int(x) - int(y)\n",
    "            print(f\"Your income of ${x} minus an expense of ${y} comes out to be... ${cash_flow}!\")\n",
    "            print(\"\\n\")\n",
    "            self.balance_sheet.update({'Cash Flow':cash_flow})\n",
    "            print(f'{self.balance_sheet}')\n",
    "        else:\n",
    "            print('Error: Please call Customer Service at 1-800-this_is_not_working...')\n",
    "        \n",
    "    def investment(self):\n",
    "        answer_a = input(f'What is your Down Payment?: ')\n",
    "        {'Down Payment':answer_a}\n",
    "        answer_1 = '${}'.format(answer_a)  \n",
    "        self.investment_sheet.update({'Down Payment':answer_1})\n",
    "        print(self.investment_sheet)\n",
    "        print(\"\\n\")\n",
    "        \n",
    "        answer_b = input(f'What is your Closing Costs?: ')\n",
    "        {'Closing Costs':answer_b}\n",
    "        answer_2 = '${}'.format(answer_b)\n",
    "        self.investment_sheet.update({'Closing Costs':answer_2})\n",
    "        print(self.investment_sheet)\n",
    "        print(\"\\n\")\n",
    "        \n",
    "        answer_c = input(f'What is your Rehab budget?: ')\n",
    "        {'Rehab budget':answer_c}\n",
    "        answer_3 = '${}'.format(answer_c)\n",
    "        self.investment_sheet.update({'Rehab budget':answer_3})\n",
    "        print(self.investment_sheet)\n",
    "        print(\"\\n\")\n",
    "        \n",
    "        answer_d = input(f'What is your Misc. Costs?: ')\n",
    "        {'Misc. Costs':answer_d}\n",
    "        answer_4 = '${}'.format(answer_d)\n",
    "        self.investment_sheet.update({'Misc. Costs':answer_4})\n",
    "        print(self.investment_sheet)\n",
    "        \n",
    "        print(\"\\n\")\n",
    "        \n",
    "        total_investment = int(answer_a) + int(answer_b) + int(answer_c) + int(answer_d)\n",
    "        self.balance_sheet.update({'Investments':total_investment})\n",
    "        \n",
    "        print(\"CALCULATING . . .\")\n",
    "        print('\\n')\n",
    "        \n",
    "        print(\"Your Investment Breakdown:\")\n",
    "        print(self.investment_sheet)\n",
    "        print('\\n')\n",
    "        \n",
    "        print(\"Your Balance Sheet:\")\n",
    "        print(self.balance_sheet)\n",
    "        \n",
    "    def roi(self):\n",
    "        if \"Cash Flow\" and \"Investments\" in self.balance_sheet:\n",
    "            x = self.balance_sheet['Cash Flow']\n",
    "            y = self.balance_sheet['Investments']\n",
    "            ROI_cash = int(x)/int(y) * 100\n",
    "            ROI = '{:.2f}%'.format(ROI_cash)\n",
    "            self.balance_sheet.update({'ROI':ROI})\n",
    "            print(f\"Your ROI is {ROI}.\")\n",
    "            print('\\n')\n",
    "            print(self.balance_sheet)\n",
    "        else:\n",
    "            print('Error: Please call Customer Service at 1-800-this_is_not_working...')    \n",
    "\n",
    "    def main(self):\n",
    "            self.add_income()\n",
    "            self.add_expense()\n",
    "            self.cash_flow_calc('Income')\n",
    "            self.investment()\n",
    "            print('\\n')\n",
    "            self.roi()\n",
    "\n",
    "lucas = Rental_Income('Lucas')\n",
    "lucas.main()"
   ]
  },
  {
   "cell_type": "code",
   "execution_count": 267,
   "id": "687d987d",
   "metadata": {},
   "outputs": [],
   "source": [
    "brandon = Rental_Income('Brandon')"
   ]
  },
  {
   "cell_type": "code",
   "execution_count": 268,
   "id": "534f82dc",
   "metadata": {},
   "outputs": [
    {
     "name": "stdout",
     "output_type": "stream",
     "text": [
      "Error: Please call Customer Service at 1-800-this_is_not_working...\n"
     ]
    }
   ],
   "source": [
    "brandon.roi()"
   ]
  },
  {
   "cell_type": "code",
   "execution_count": 269,
   "id": "0c64753e",
   "metadata": {},
   "outputs": [
    {
     "name": "stdout",
     "output_type": "stream",
     "text": [
      "What is your annual income?: 344\n",
      "\n",
      "\n",
      "{'Income': '344'}\n"
     ]
    }
   ],
   "source": [
    "brandon.add_income()"
   ]
  },
  {
   "cell_type": "code",
   "execution_count": 270,
   "id": "09e1a3b8",
   "metadata": {},
   "outputs": [
    {
     "name": "stdout",
     "output_type": "stream",
     "text": [
      "What is your total expense?: 457\n",
      "\n",
      "\n",
      "{'Income': '344', 'Total Expense': '457'}\n"
     ]
    }
   ],
   "source": [
    "brandon.add_expense()"
   ]
  },
  {
   "cell_type": "code",
   "execution_count": 271,
   "id": "0bdeea34",
   "metadata": {},
   "outputs": [
    {
     "name": "stdout",
     "output_type": "stream",
     "text": [
      "{'Income': '344', 'Total Expense': '457'}\n",
      "\n",
      "\n",
      "Your income of $344 minus an expense of $457 comes out to be... $-113!\n",
      "\n",
      "\n",
      "{'Income': '344', 'Total Expense': '457', 'Cash Flow': -113}\n"
     ]
    }
   ],
   "source": [
    "brandon.cash_flow_calc('Income')"
   ]
  },
  {
   "cell_type": "code",
   "execution_count": 272,
   "id": "ef58ed5c",
   "metadata": {},
   "outputs": [
    {
     "name": "stdout",
     "output_type": "stream",
     "text": [
      "What is your Down Payment?: 3\n",
      "{'Down Payment': '$3'}\n",
      "\n",
      "\n",
      "What is your Closing Costs?: 6\n",
      "{'Down Payment': '$3', 'Closing Costs': '$6'}\n",
      "\n",
      "\n",
      "What is your Rehab budget?: 8\n",
      "{'Down Payment': '$3', 'Closing Costs': '$6', 'Rehab budget': '$8'}\n",
      "\n",
      "\n",
      "What is your Misc. Costs?: 9\n",
      "{'Down Payment': '$3', 'Closing Costs': '$6', 'Rehab budget': '$8', 'Misc. Costs': '$9'}\n",
      "\n",
      "\n",
      "CALCULATING . . .\n",
      "\n",
      "\n",
      "Your Investment Breakdown:\n",
      "{'Down Payment': '$3', 'Closing Costs': '$6', 'Rehab budget': '$8', 'Misc. Costs': '$9'}\n",
      "\n",
      "\n",
      "Your Balance Sheet:\n",
      "{'Income': '344', 'Total Expense': '457', 'Cash Flow': -113, 'Investments': 26}\n"
     ]
    }
   ],
   "source": [
    "brandon.investment()"
   ]
  },
  {
   "cell_type": "code",
   "execution_count": 273,
   "id": "7558ba2a",
   "metadata": {},
   "outputs": [
    {
     "name": "stdout",
     "output_type": "stream",
     "text": [
      "Your ROI is -434.62%.\n",
      "\n",
      "\n",
      "{'Income': '344', 'Total Expense': '457', 'Cash Flow': -113, 'Investments': 26, 'ROI': '-434.62%'}\n"
     ]
    }
   ],
   "source": [
    "brandon.roi()"
   ]
  },
  {
   "cell_type": "code",
   "execution_count": null,
   "id": "81a633fe",
   "metadata": {},
   "outputs": [],
   "source": []
  },
  {
   "cell_type": "code",
   "execution_count": null,
   "id": "de75b3de",
   "metadata": {},
   "outputs": [],
   "source": []
  },
  {
   "cell_type": "code",
   "execution_count": null,
   "id": "2cd151e4",
   "metadata": {},
   "outputs": [],
   "source": []
  }
 ],
 "metadata": {
  "kernelspec": {
   "display_name": "Python 3 (ipykernel)",
   "language": "python",
   "name": "python3"
  },
  "language_info": {
   "codemirror_mode": {
    "name": "ipython",
    "version": 3
   },
   "file_extension": ".py",
   "mimetype": "text/x-python",
   "name": "python",
   "nbconvert_exporter": "python",
   "pygments_lexer": "ipython3",
   "version": "3.9.12"
  }
 },
 "nbformat": 4,
 "nbformat_minor": 5
}
